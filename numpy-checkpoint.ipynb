{
 "cells": [
  {
   "cell_type": "code",
   "execution_count": 96,
   "id": "4515e685-9525-40a0-9147-beb857665f94",
   "metadata": {},
   "outputs": [
    {
     "name": "stdout",
     "output_type": "stream",
     "text": [
      "Requirement already satisfied: numpy in c:\\users\\ma986\\anaconda3\\lib\\site-packages (1.26.4)\n"
     ]
    }
   ],
   "source": [
    "#installing numpy by using pip\n",
    "!pip install numpy"
   ]
  },
  {
   "cell_type": "code",
   "execution_count": 97,
   "id": "6dd1ca24-fe94-425f-a595-201c61a5e431",
   "metadata": {},
   "outputs": [],
   "source": [
    "# import numpy module alias np\n",
    "import numpy as np \n",
    "#define numpy array passing a list\n",
    "a = np.array([1,2,3,4,'a'])"
   ]
  },
  {
   "cell_type": "code",
   "execution_count": 98,
   "id": "7890b24e-fe87-4521-8088-5ede5f2ae4af",
   "metadata": {},
   "outputs": [
    {
     "data": {
      "text/plain": [
       "array(['1', '2', '3', '4', 'a'], dtype='<U11')"
      ]
     },
     "execution_count": 98,
     "metadata": {},
     "output_type": "execute_result"
    }
   ],
   "source": [
    "#print a\n",
    "a"
   ]
  },
  {
   "cell_type": "code",
   "execution_count": 99,
   "id": "99d461c2-1c20-421e-a02a-4686e1a37087",
   "metadata": {},
   "outputs": [],
   "source": [
    "#dimensions of array\n",
    "a = np.array(10)\n",
    "b = np.array([1,2,3])\n",
    "c = np.array([[1,2,3],[4,5,6]])\n",
    "d = np.array([[[1,2,3],[4,5,6]],[[1,2,3],[4,5,6]]])"
   ]
  },
  {
   "cell_type": "code",
   "execution_count": 100,
   "id": "684cd773-4cbb-452a-81b9-3543fb53b998",
   "metadata": {},
   "outputs": [
    {
     "name": "stdout",
     "output_type": "stream",
     "text": [
      "adimension: 0\n",
      "bdimension: 1\n",
      "cdimension: 2\n",
      "dimension : 3\n"
     ]
    }
   ],
   "source": [
    "#print dimensions of a ,b, c ,and d\n",
    "print('adimension:', a.ndim)\n",
    "print('bdimension:', b.ndim)\n",
    "print('cdimension:', c.ndim)\n",
    "print('dimension :', d.ndim)"
   ]
  },
  {
   "cell_type": "code",
   "execution_count": 101,
   "id": "f05d111d-fd81-46c4-97e5-056914f63bb9",
   "metadata": {},
   "outputs": [
    {
     "name": "stdout",
     "output_type": "stream",
     "text": [
      "a shape: ()\n",
      "b shape: (3,)\n",
      "c shape: (2, 3)\n",
      "d shape : (2, 2, 3)\n"
     ]
    }
   ],
   "source": [
    "#sgape of the given array \n",
    "print('a shape:', a.shape)\n",
    "print('b shape:', b.shape)\n",
    "print('c shape:', c.shape)\n",
    "print('d shape :',d.shape)"
   ]
  },
  {
   "cell_type": "code",
   "execution_count": 102,
   "id": "ef9816ca-b5a6-47db-a7fb-0ec770ad48ea",
   "metadata": {},
   "outputs": [
    {
     "name": "stdout",
     "output_type": "stream",
     "text": [
      "int32\n",
      "int32\n"
     ]
    }
   ],
   "source": [
    "#finding the datatype\n",
    "print(a.dtype)\n",
    "print(b.dtype)"
   ]
  },
  {
   "cell_type": "code",
   "execution_count": 103,
   "id": "076c8a80-4a1b-4581-ba22-7c0bb90b487b",
   "metadata": {},
   "outputs": [
    {
     "name": "stdout",
     "output_type": "stream",
     "text": [
      "<class 'numpy.ndarray'>\n",
      "<class 'numpy.ndarray'>\n"
     ]
    }
   ],
   "source": [
    "##finding the type \n",
    "print(type(c))\n",
    "print(type(d))"
   ]
  },
  {
   "cell_type": "code",
   "execution_count": 104,
   "id": "d9f88881-250d-47aa-bdef-7f755d7a079a",
   "metadata": {},
   "outputs": [
    {
     "name": "stdout",
     "output_type": "stream",
     "text": [
      "3\n"
     ]
    }
   ],
   "source": [
    "##finding length of list by using len operation\n",
    "print(len(b))"
   ]
  },
  {
   "cell_type": "code",
   "execution_count": 105,
   "id": "fc483d57-d174-46a0-b866-1ddbb8a2f3cd",
   "metadata": {},
   "outputs": [
    {
     "data": {
      "text/plain": [
       "array([ 1,  2,  3,  4,  5,  6,  7,  8,  9, 10])"
      ]
     },
     "execution_count": 105,
     "metadata": {},
     "output_type": "execute_result"
    }
   ],
   "source": [
    "##creating numpy arrays \n",
    "#create a numpy array using arange function\n",
    "np.arange(1,11)"
   ]
  },
  {
   "cell_type": "code",
   "execution_count": 106,
   "id": "0d8a71b0-bdf0-4902-8d1c-513af989bb2e",
   "metadata": {},
   "outputs": [
    {
     "data": {
      "text/plain": [
       "array([1, 3, 5, 7, 9])"
      ]
     },
     "execution_count": 106,
     "metadata": {},
     "output_type": "execute_result"
    }
   ],
   "source": [
    "#create an array using arange passing 1,11 and 2 as parameters \n",
    "np.arange(1,11,2)"
   ]
  },
  {
   "cell_type": "code",
   "execution_count": 107,
   "id": "3fea70ab-622d-48b8-a4d4-0471ec03098c",
   "metadata": {},
   "outputs": [
    {
     "data": {
      "text/plain": [
       "array([[1, 0, 0],\n",
       "       [0, 1, 0],\n",
       "       [0, 0, 1]])"
      ]
     },
     "execution_count": 107,
     "metadata": {},
     "output_type": "execute_result"
    }
   ],
   "source": [
    "##using eye function\n",
    "##create a numpy array using eye function with 3 as passed parameter\n",
    "np.eye(3 , dtype = int)"
   ]
  },
  {
   "cell_type": "code",
   "execution_count": 108,
   "id": "84109335-8ad0-4aa0-8fe2-fe8c60ba9b37",
   "metadata": {},
   "outputs": [
    {
     "data": {
      "text/plain": [
       "array([[0, 0],\n",
       "       [0, 0],\n",
       "       [0, 0]])"
      ]
     },
     "execution_count": 108,
     "metadata": {},
     "output_type": "execute_result"
    }
   ],
   "source": [
    "##using zero function\n",
    "#create a numpy array using zero function\n",
    "np.zeros((3,2),dtype= int)"
   ]
  },
  {
   "cell_type": "code",
   "execution_count": 109,
   "id": "5851eab7-6a66-4492-b653-07bab8af4859",
   "metadata": {},
   "outputs": [
    {
     "data": {
      "text/plain": [
       "array([[1, 1, 1],\n",
       "       [1, 1, 1],\n",
       "       [1, 1, 1]])"
      ]
     },
     "execution_count": 109,
     "metadata": {},
     "output_type": "execute_result"
    }
   ],
   "source": [
    "##using ones function \n",
    "#create a numpy array by using ones function\n",
    "np.ones((3,3),dtype = int)"
   ]
  },
  {
   "cell_type": "code",
   "execution_count": 110,
   "id": "e42f9805-4286-4b53-8756-48cadd589f72",
   "metadata": {},
   "outputs": [
    {
     "data": {
      "text/plain": [
       "array([[10, 10],\n",
       "       [10, 10],\n",
       "       [10, 10]])"
      ]
     },
     "execution_count": 110,
     "metadata": {},
     "output_type": "execute_result"
    }
   ],
   "source": [
    "          ##using full function\n",
    "##create anumpy array by using full function\n",
    "np.full((3,2),10,dtype = int)"
   ]
  },
  {
   "cell_type": "code",
   "execution_count": 111,
   "id": "705566e7-3bf2-4725-8a8e-1b93eb981b44",
   "metadata": {},
   "outputs": [
    {
     "data": {
      "text/plain": [
       "array([[1, 0, 0, 0, 0],\n",
       "       [0, 2, 0, 0, 0],\n",
       "       [0, 0, 3, 0, 0],\n",
       "       [0, 0, 0, 4, 0],\n",
       "       [0, 0, 0, 0, 5]])"
      ]
     },
     "execution_count": 111,
     "metadata": {},
     "output_type": "execute_result"
    }
   ],
   "source": [
    "                #using diagonal function\n",
    "#create a numpy array by using diagonal function\n",
    "list = [1,2,3,4,5]\n",
    "np.diag(list)"
   ]
  },
  {
   "cell_type": "code",
   "execution_count": 112,
   "id": "28c55f7b-a987-4b17-97f7-61f4b204e15d",
   "metadata": {},
   "outputs": [
    {
     "name": "stdout",
     "output_type": "stream",
     "text": [
      "[1 2 3 4 5 6]\n",
      "(6,)\n",
      "1\n"
     ]
    }
   ],
   "source": [
    "## numpy reshape\n",
    "#using arange() to generate numpy array x with number between 1 to 6\n",
    "x = np.arange(1,7)\n",
    "print(x)\n",
    "print(x.shape)\n",
    "print(x.ndim)"
   ]
  },
  {
   "cell_type": "code",
   "execution_count": 113,
   "id": "761c5e06-570d-4fcc-9b14-5630b3e3a333",
   "metadata": {},
   "outputs": [
    {
     "name": "stdout",
     "output_type": "stream",
     "text": [
      "[[1 2]\n",
      " [3 4]\n",
      " [5 6]]\n",
      "2\n",
      "(3, 2)\n"
     ]
    }
   ],
   "source": [
    "#reshape x with 2 rows and 3 columns \n",
    "n=x.reshape(3,2)\n",
    "print(n)\n",
    "print(n.ndim)\n",
    "print(n.shape)"
   ]
  },
  {
   "cell_type": "code",
   "execution_count": 114,
   "id": "8ef02d2f-3f36-484b-b3ba-5f47cd3c2dc2",
   "metadata": {},
   "outputs": [
    {
     "name": "stdout",
     "output_type": "stream",
     "text": [
      "[[1]\n",
      " [2]\n",
      " [3]\n",
      " [4]\n",
      " [5]\n",
      " [6]]\n",
      "(6, 1)\n",
      "2\n"
     ]
    }
   ],
   "source": [
    "#reshape x with 6 rows and 1 column\n",
    "n1 = x.reshape(6,1)\n",
    "print(n1)\n",
    "print(n1.shape)\n",
    "print(n1.ndim)"
   ]
  },
  {
   "cell_type": "code",
   "execution_count": 115,
   "id": "65f1026b-2dc3-4cec-a2a5-b762eee1b94a",
   "metadata": {},
   "outputs": [
    {
     "name": "stdout",
     "output_type": "stream",
     "text": [
      "[1 2 3 4 5 6]\n",
      "1\n",
      "(6,)\n"
     ]
    }
   ],
   "source": [
    "##convert to old dimension ravel\n",
    "n2 = n1.ravel()\n",
    "print(n2)\n",
    "print(n2.ndim)\n",
    "print(n2.shape)"
   ]
  },
  {
   "cell_type": "code",
   "execution_count": 116,
   "id": "4279250d-0763-40bc-b4cf-5e5bd4cfdd91",
   "metadata": {},
   "outputs": [
    {
     "name": "stdout",
     "output_type": "stream",
     "text": [
      "[1 2 3 4 5 6]\n",
      "1\n",
      "(6,)\n"
     ]
    }
   ],
   "source": [
    "##flatten() function\n",
    "n2 = n1.flatten()\n",
    "print(n2)\n",
    "print(n2.ndim)\n",
    "print(n2.shape)"
   ]
  },
  {
   "cell_type": "code",
   "execution_count": 117,
   "id": "f64de68a-eeeb-4cd5-8eb8-d3bd6e93d0f1",
   "metadata": {},
   "outputs": [
    {
     "data": {
      "text/plain": [
       "array([2, 4, 6, 8])"
      ]
     },
     "execution_count": 117,
     "metadata": {},
     "output_type": "execute_result"
    }
   ],
   "source": [
    "## numpy array indexing\n",
    "a = np.arange(2,10,2)\n",
    "#print a\n",
    "a"
   ]
  },
  {
   "cell_type": "code",
   "execution_count": 118,
   "id": "17836f4a-c055-43e7-b322-a620062a75ee",
   "metadata": {},
   "outputs": [
    {
     "data": {
      "text/plain": [
       "8"
      ]
     },
     "execution_count": 118,
     "metadata": {},
     "output_type": "execute_result"
    }
   ],
   "source": [
    "#get fourth element in array\n",
    "a[3]"
   ]
  },
  {
   "cell_type": "code",
   "execution_count": 119,
   "id": "92bfbbed-3f35-4ed8-a1c1-fde95a274c8d",
   "metadata": {},
   "outputs": [
    {
     "data": {
      "text/plain": [
       "array([2, 6])"
      ]
     },
     "execution_count": 119,
     "metadata": {},
     "output_type": "execute_result"
    }
   ],
   "source": [
    "#get 1st, and 3rd elements in array a\n",
    "a[0:7:2]"
   ]
  },
  {
   "cell_type": "code",
   "execution_count": 120,
   "id": "1598758b-1baf-436f-92a0-47495f004b04",
   "metadata": {},
   "outputs": [
    {
     "data": {
      "text/plain": [
       "array([[[1, 2, 3],\n",
       "        [4, 5, 6]],\n",
       "\n",
       "       [[1, 2, 3],\n",
       "        [4, 5, 6]]])"
      ]
     },
     "execution_count": 120,
     "metadata": {},
     "output_type": "execute_result"
    }
   ],
   "source": [
    "##slicing in numpy\n",
    "b =np.array([[[1,2,3],[4,5,6,]],[[1,2,3],[4,5,6]]])\n",
    "b.shape\n",
    "b"
   ]
  },
  {
   "cell_type": "code",
   "execution_count": 121,
   "id": "a3bc6792-a398-495c-9969-7686223006a2",
   "metadata": {},
   "outputs": [
    {
     "data": {
      "text/plain": [
       "2"
      ]
     },
     "execution_count": 121,
     "metadata": {},
     "output_type": "execute_result"
    }
   ],
   "source": [
    "#print  elemnt from 2nd list \n",
    "b[1][0][1]"
   ]
  },
  {
   "cell_type": "code",
   "execution_count": 122,
   "id": "15d27a08-3b96-4a84-9e37-b1b24ff53ae6",
   "metadata": {},
   "outputs": [
    {
     "data": {
      "text/plain": [
       "array([ 1,  2,  3,  4,  5,  6,  7,  8,  9, 10])"
      ]
     },
     "execution_count": 122,
     "metadata": {},
     "output_type": "execute_result"
    }
   ],
   "source": [
    "#numpy slicing\n",
    "#arrat slicing in 1D array\n",
    "arr = np.arange(1,11)\n",
    "arr"
   ]
  },
  {
   "cell_type": "code",
   "execution_count": 123,
   "id": "9de0a82e-2d2b-44e1-8262-c814c45dbb2f",
   "metadata": {},
   "outputs": [
    {
     "data": {
      "text/plain": [
       "array([1, 2, 3, 4, 5])"
      ]
     },
     "execution_count": 123,
     "metadata": {},
     "output_type": "execute_result"
    }
   ],
   "source": [
    "# slicing a element from 1st to 5th element from an array\n",
    "arr[0:5]"
   ]
  },
  {
   "cell_type": "code",
   "execution_count": 124,
   "id": "d6f35dcf-cf35-46ba-b232-4849a5d92f67",
   "metadata": {},
   "outputs": [
    {
     "data": {
      "text/plain": [
       "array([2, 4, 6])"
      ]
     },
     "execution_count": 124,
     "metadata": {},
     "output_type": "execute_result"
    }
   ],
   "source": [
    "#print every other element from index 1 to 7 \n",
    "arr[1:7:2]"
   ]
  },
  {
   "cell_type": "code",
   "execution_count": 125,
   "id": "27b2d84f-904a-45fb-9651-42e399a2010f",
   "metadata": {},
   "outputs": [
    {
     "data": {
      "text/plain": [
       "array([[[1, 2, 3],\n",
       "        [4, 5, 6]],\n",
       "\n",
       "       [[1, 2, 3],\n",
       "        [4, 5, 6]]])"
      ]
     },
     "execution_count": 125,
     "metadata": {},
     "output_type": "execute_result"
    }
   ],
   "source": [
    "#print a\n",
    "b"
   ]
  },
  {
   "cell_type": "code",
   "execution_count": 126,
   "id": "6f415980-6b3a-45f1-916d-101c953b33d2",
   "metadata": {},
   "outputs": [
    {
     "data": {
      "text/plain": [
       "array([[[4, 5, 6]],\n",
       "\n",
       "       [[4, 5, 6]]])"
      ]
     },
     "execution_count": 126,
     "metadata": {},
     "output_type": "execute_result"
    }
   ],
   "source": [
    "#from all elements in 'b' slice index 1 till end this will return a 3D array\n",
    "b[0:,1:]"
   ]
  },
  {
   "cell_type": "code",
   "execution_count": 127,
   "id": "b0e7b59a-6288-4918-926e-92d9221bcb81",
   "metadata": {},
   "outputs": [
    {
     "data": {
      "text/plain": [
       "array([ 1,  2,  3,  4,  5,  6,  7,  8,  9, 10])"
      ]
     },
     "execution_count": 127,
     "metadata": {},
     "output_type": "execute_result"
    }
   ],
   "source": [
    "###NUMPY COPY VS VIEW\n",
    "x1 = np.arange(1,11)\n",
    "x1"
   ]
  },
  {
   "cell_type": "code",
   "execution_count": 128,
   "id": "9ea1e32c-6f0e-448a-b123-1c7dbf5d2a28",
   "metadata": {},
   "outputs": [],
   "source": [
    "##x1 is equal to x2\n",
    "x2 = x1\n"
   ]
  },
  {
   "cell_type": "code",
   "execution_count": 129,
   "id": "c94c62ad-b7ff-449b-9221-eec7191fb013",
   "metadata": {},
   "outputs": [
    {
     "name": "stdout",
     "output_type": "stream",
     "text": [
      "[ 1  2  3  4  5  6  7  8  9 10]\n",
      "[ 1  2  3  4  5  6  7  8  9 10]\n"
     ]
    }
   ],
   "source": [
    "##print x1 and x2\n",
    "print(x1)\n",
    "print(x2)"
   ]
  },
  {
   "cell_type": "code",
   "execution_count": 130,
   "id": "853d39ba-582c-421c-8633-93fcd778f1b3",
   "metadata": {},
   "outputs": [],
   "source": [
    "#change any element of x1\n",
    "x1[2] = 11"
   ]
  },
  {
   "cell_type": "code",
   "execution_count": 131,
   "id": "ef7b74e5-3976-4678-9ab4-323d5652478f",
   "metadata": {},
   "outputs": [
    {
     "name": "stdout",
     "output_type": "stream",
     "text": [
      "[ 1  2 11  4  5  6  7  8  9 10]\n",
      "[ 1  2 11  4  5  6  7  8  9 10]\n"
     ]
    }
   ],
   "source": [
    "#again print x1 and x2\n",
    "print(x1)\n",
    "print(x2)"
   ]
  },
  {
   "cell_type": "code",
   "execution_count": 132,
   "id": "484675b6-df9d-4636-be85-381ce0c286c7",
   "metadata": {},
   "outputs": [
    {
     "name": "stdout",
     "output_type": "stream",
     "text": [
      "2137939985296\n",
      "2137939985296\n"
     ]
    }
   ],
   "source": [
    "print(id(x1))\n",
    "print(id(x2))"
   ]
  },
  {
   "cell_type": "code",
   "execution_count": 133,
   "id": "cb056035-28e9-4118-bba6-9209d7b2cd52",
   "metadata": {},
   "outputs": [],
   "source": [
    "#create a view of x1 and store it in x3\n",
    "x3 = x1.view()"
   ]
  },
  {
   "cell_type": "code",
   "execution_count": 135,
   "id": "4fe12e4a-8c02-4dd3-b227-bce252375686",
   "metadata": {},
   "outputs": [
    {
     "data": {
      "text/plain": [
       "True"
      ]
     },
     "execution_count": 135,
     "metadata": {},
     "output_type": "execute_result"
    }
   ],
   "source": [
    "#again check memory shares between x1 and x3\n",
    "np.shares_memory(x1 , x3)"
   ]
  },
  {
   "cell_type": "code",
   "execution_count": 136,
   "id": "4cb39c04-b393-46da-9fcc-def896aba979",
   "metadata": {},
   "outputs": [],
   "source": [
    "### COPY\n",
    "#now create an array x4 which is copy of x1\n",
    "x4 =np.copy(x1)"
   ]
  },
  {
   "cell_type": "code",
   "execution_count": 137,
   "id": "30b2d181-f952-471f-a2e6-0ee0354b7ae2",
   "metadata": {},
   "outputs": [],
   "source": [
    "#change the last element \n",
    "x4[-1] = 50"
   ]
  },
  {
   "cell_type": "code",
   "execution_count": 138,
   "id": "90c6af9b-5134-4dc7-a1b5-677079d83bf8",
   "metadata": {},
   "outputs": [
    {
     "name": "stdout",
     "output_type": "stream",
     "text": [
      "[ 1  2 11  4  5  6  7  8  9 10]\n",
      "[ 1  2 11  4  5  6  7  8  9 50]\n"
     ]
    }
   ],
   "source": [
    "#print x1 and x4\n",
    "print(x1)\n",
    "print(x4)"
   ]
  },
  {
   "cell_type": "code",
   "execution_count": 139,
   "id": "2e9ffc38-153f-4fbe-bf19-cfe9517a6509",
   "metadata": {},
   "outputs": [
    {
     "name": "stdout",
     "output_type": "stream",
     "text": [
      "2137939985296\n",
      "2137939999600\n"
     ]
    }
   ],
   "source": [
    "##print the id's\n",
    "print(id(x1))\n",
    "print(id(x4))"
   ]
  },
  {
   "cell_type": "code",
   "execution_count": 144,
   "id": "a93aa9eb-50da-40af-9a93-633fda18e8b5",
   "metadata": {},
   "outputs": [
    {
     "data": {
      "text/plain": [
       "array([1, 2, 3, 4, 5, 6, 7, 8, 9])"
      ]
     },
     "execution_count": 144,
     "metadata": {},
     "output_type": "execute_result"
    }
   ],
   "source": [
    "### MORE OPERATIONS IN NUMPY\n",
    "##create a array\n",
    "a = np.arange(1,10)\n",
    "a"
   ]
  },
  {
   "cell_type": "code",
   "execution_count": 145,
   "id": "64112d1f-b52d-4d89-95a2-6379341076fd",
   "metadata": {},
   "outputs": [
    {
     "data": {
      "text/plain": [
       "array([[1, 2, 3],\n",
       "       [4, 5, 6],\n",
       "       [7, 8, 9]])"
      ]
     },
     "execution_count": 145,
     "metadata": {},
     "output_type": "execute_result"
    }
   ],
   "source": [
    "a1 = a.reshape(3,3)\n",
    "a1"
   ]
  },
  {
   "cell_type": "code",
   "execution_count": 146,
   "id": "82bf1c7f-e174-4c80-97d9-de0cb5f357e7",
   "metadata": {},
   "outputs": [
    {
     "data": {
      "text/plain": [
       "array([[False, False, False],\n",
       "       [ True,  True,  True],\n",
       "       [ True,  True,  True]])"
      ]
     },
     "execution_count": 146,
     "metadata": {},
     "output_type": "execute_result"
    }
   ],
   "source": [
    "#check every element in array a1 greater than 3\n",
    "a1>3"
   ]
  },
  {
   "cell_type": "code",
   "execution_count": 147,
   "id": "080ab1b8-5d40-4e01-bf75-ea71874fe2d5",
   "metadata": {},
   "outputs": [
    {
     "data": {
      "text/plain": [
       "array([4, 5, 6, 7, 8, 9])"
      ]
     },
     "execution_count": 147,
     "metadata": {},
     "output_type": "execute_result"
    }
   ],
   "source": [
    "#get a list of all elements of array a1 greater than 3\n",
    "a1[a1>3]"
   ]
  },
  {
   "cell_type": "code",
   "execution_count": 148,
   "id": "1aaec398-c91b-470c-b4c1-4dd1dfd4d70d",
   "metadata": {},
   "outputs": [
    {
     "data": {
      "text/plain": [
       "array([ True,  True,  True,  True,  True,  True,  True,  True,  True,\n",
       "       False])"
      ]
     },
     "execution_count": 148,
     "metadata": {},
     "output_type": "execute_result"
    }
   ],
   "source": [
    " ##check if each element in array x1 equals  array x4 using == notations\n",
    "x1 == x4"
   ]
  },
  {
   "cell_type": "code",
   "execution_count": 150,
   "id": "4c28ac4b-30ae-4be6-afc0-bc4ee0093d09",
   "metadata": {},
   "outputs": [
    {
     "name": "stdout",
     "output_type": "stream",
     "text": [
      "[[1 4 7]\n",
      " [2 5 8]\n",
      " [3 6 9]]\n",
      "------------------\n"
     ]
    },
    {
     "data": {
      "text/plain": [
       "array([[1, 2, 3],\n",
       "       [4, 5, 6],\n",
       "       [7, 8, 9]])"
      ]
     },
     "execution_count": 150,
     "metadata": {},
     "output_type": "execute_result"
    }
   ],
   "source": [
    "### 2. TRANSPOSING ARRAY\n",
    "print(a1.transpose())\n",
    "print('------------------')\n",
    "a1"
   ]
  },
  {
   "cell_type": "code",
   "execution_count": 155,
   "id": "b6d3db38-f482-4a29-ab5c-17b7aba37edf",
   "metadata": {},
   "outputs": [
    {
     "data": {
      "text/plain": [
       "array([[ 1,  2, 11,  4,  5,  6,  7,  8,  9, 10],\n",
       "       [ 1,  2, 11,  4,  5,  6,  7,  8,  9, 50]])"
      ]
     },
     "execution_count": 155,
     "metadata": {},
     "output_type": "execute_result"
    }
   ],
   "source": [
    "## hstack vs  vstack functions\n",
    "np.vstack((x1 , x4))"
   ]
  },
  {
   "cell_type": "code",
   "execution_count": 156,
   "id": "f1215892-80b3-44a0-93b1-0f0f6cd1e97d",
   "metadata": {},
   "outputs": [
    {
     "data": {
      "text/plain": [
       "array([ 1,  2, 11,  4,  5,  6,  7,  8,  9, 10,  1,  2, 11,  4,  5,  6,  7,\n",
       "        8,  9, 50])"
      ]
     },
     "execution_count": 156,
     "metadata": {},
     "output_type": "execute_result"
    }
   ],
   "source": [
    "## h stack\n",
    "np.hstack((x1,x4))"
   ]
  },
  {
   "cell_type": "code",
   "execution_count": 163,
   "id": "622284b4-fbb7-46a3-833e-624fba7ec5f7",
   "metadata": {},
   "outputs": [
    {
     "name": "stdout",
     "output_type": "stream",
     "text": [
      "[ 1  2 11  4  5  6  7  8  9 10]\n",
      "[ 1  2 11  4  5  6  7  8  9 50]\n"
     ]
    },
    {
     "data": {
      "text/plain": [
       "array([ 1,  2, 11,  4,  5,  6,  7,  1,  2, 11,  4,  5,  6,  7,  8,  9, 50,\n",
       "        8,  9, 10])"
      ]
     },
     "execution_count": 163,
     "metadata": {},
     "output_type": "execute_result"
    }
   ],
   "source": [
    "####insert numpy arrays\n",
    "print(x1)\n",
    "print(x4)\n",
    "np.insert(x1,7,x4)"
   ]
  },
  {
   "cell_type": "code",
   "execution_count": 166,
   "id": "01655e35-f7a0-4cf0-b537-7eb852647d48",
   "metadata": {},
   "outputs": [
    {
     "name": "stdout",
     "output_type": "stream",
     "text": [
      "[ 1  2 11  4  5  6  7  8  9 10]\n"
     ]
    },
    {
     "data": {
      "text/plain": [
       "array([ 1,  2, 11,  4,  5,  6,  7,  8,  9])"
      ]
     },
     "execution_count": 166,
     "metadata": {},
     "output_type": "execute_result"
    }
   ],
   "source": [
    "##deleting any number in x1\n",
    "print(x1)\n",
    "np.delete(x1,9)"
   ]
  },
  {
   "cell_type": "code",
   "execution_count": 169,
   "id": "353e4b64-0b01-4c4f-b9f9-6563259349d6",
   "metadata": {},
   "outputs": [],
   "source": [
    "##Mathematical Operations Of NUMPY\n",
    "import numpy as np\n",
    "a2 =np.array([[1,2,3],[4,5,6],[7,8,9]])"
   ]
  },
  {
   "cell_type": "code",
   "execution_count": 172,
   "id": "5a88564f-8a0b-419c-a42f-32cc6ea104a4",
   "metadata": {},
   "outputs": [
    {
     "data": {
      "text/plain": [
       "array([[ 0.84147098,  0.90929743,  0.14112001],\n",
       "       [-0.7568025 , -0.95892427, -0.2794155 ],\n",
       "       [ 0.6569866 ,  0.98935825,  0.41211849]])"
      ]
     },
     "execution_count": 172,
     "metadata": {},
     "output_type": "execute_result"
    }
   ],
   "source": [
    "##print trogonometric sin value of ecah element\n",
    "np.sin(a2)"
   ]
  },
  {
   "cell_type": "code",
   "execution_count": 174,
   "id": "21f8ad21-b39e-46f4-9ec5-ec9f80aa9142",
   "metadata": {},
   "outputs": [
    {
     "data": {
      "text/plain": [
       "array([[2.71828183e+00, 7.38905610e+00, 2.00855369e+01],\n",
       "       [5.45981500e+01, 1.48413159e+02, 4.03428793e+02],\n",
       "       [1.09663316e+03, 2.98095799e+03, 8.10308393e+03]])"
      ]
     },
     "execution_count": 174,
     "metadata": {},
     "output_type": "execute_result"
    }
   ],
   "source": [
    "#print exponential of each element \n",
    "np.exp(a2)"
   ]
  },
  {
   "cell_type": "code",
   "execution_count": 175,
   "id": "5f9f4eb2-b6f5-4ac3-be31-b54d52999452",
   "metadata": {},
   "outputs": [
    {
     "data": {
      "text/plain": [
       "5.0"
      ]
     },
     "execution_count": 175,
     "metadata": {},
     "output_type": "execute_result"
    }
   ],
   "source": [
    "#print the mean value\n",
    "np.mean(a2)"
   ]
  },
  {
   "cell_type": "code",
   "execution_count": 177,
   "id": "43382255-dd9d-4fe3-8b5a-4357afc1ae8f",
   "metadata": {},
   "outputs": [
    {
     "data": {
      "text/plain": [
       "2.581988897471611"
      ]
     },
     "execution_count": 177,
     "metadata": {},
     "output_type": "execute_result"
    }
   ],
   "source": [
    "#print the std value\n",
    "np.std(a2)"
   ]
  },
  {
   "cell_type": "code",
   "execution_count": 185,
   "id": "2ff40d6f-4e59-484c-8e6f-718a6fb9bb36",
   "metadata": {},
   "outputs": [
    {
     "data": {
      "text/plain": [
       "array([[ 0.54030231, -0.41614684, -0.9899925 ],\n",
       "       [-0.65364362,  0.28366219,  0.96017029],\n",
       "       [ 0.75390225, -0.14550003, -0.91113026]])"
      ]
     },
     "execution_count": 185,
     "metadata": {},
     "output_type": "execute_result"
    }
   ],
   "source": [
    "#print the cos values of each elements\n",
    "np.cos(a2)"
   ]
  },
  {
   "cell_type": "code",
   "execution_count": 187,
   "id": "ac5477c2-b64b-49b1-8a28-be26810a684c",
   "metadata": {},
   "outputs": [],
   "source": [
    "### Searching array\n",
    "#create a numpy array\n",
    "arr = np.array([[10,20,30,40,50]])\n"
   ]
  },
  {
   "cell_type": "code",
   "execution_count": 189,
   "id": "1c9f2919-dd90-42b4-9828-fd4eedd03e4d",
   "metadata": {},
   "outputs": [
    {
     "name": "stdout",
     "output_type": "stream",
     "text": [
      "(array([0, 0, 0, 0], dtype=int64), array([1, 2, 3, 4], dtype=int64))\n"
     ]
    }
   ],
   "source": [
    "#use numpy where() with 1st array\n",
    "arr1 = np.where(arr>10)\n",
    "print(arr1)"
   ]
  },
  {
   "cell_type": "code",
   "execution_count": 190,
   "id": "bbcf97c8-88f0-49c7-bad5-5b20973024b5",
   "metadata": {},
   "outputs": [
    {
     "name": "stdout",
     "output_type": "stream",
     "text": [
      "['__add__', '__class__', '__class_getitem__', '__contains__', '__delattr__', '__delitem__', '__dir__', '__doc__', '__eq__', '__format__', '__ge__', '__getattribute__', '__getitem__', '__getstate__', '__gt__', '__hash__', '__iadd__', '__imul__', '__init__', '__init_subclass__', '__iter__', '__le__', '__len__', '__lt__', '__mul__', '__ne__', '__new__', '__reduce__', '__reduce_ex__', '__repr__', '__reversed__', '__rmul__', '__setattr__', '__setitem__', '__sizeof__', '__str__', '__subclasshook__', 'append', 'clear', 'copy', 'count', 'extend', 'index', 'insert', 'pop', 'remove', 'reverse', 'sort']\n"
     ]
    }
   ],
   "source": [
    "## how ro find the particular method in datatypes\n",
    "print(dir(list))\n"
   ]
  },
  {
   "cell_type": "code",
   "execution_count": 192,
   "id": "93e408d0-4345-4247-b94a-34ba07c69a55",
   "metadata": {},
   "outputs": [
    {
     "name": "stdout",
     "output_type": "stream",
     "text": [
      "['__and__', '__class__', '__class_getitem__', '__contains__', '__delattr__', '__dir__', '__doc__', '__eq__', '__format__', '__ge__', '__getattribute__', '__getstate__', '__gt__', '__hash__', '__iand__', '__init__', '__init_subclass__', '__ior__', '__isub__', '__iter__', '__ixor__', '__le__', '__len__', '__lt__', '__ne__', '__new__', '__or__', '__rand__', '__reduce__', '__reduce_ex__', '__repr__', '__ror__', '__rsub__', '__rxor__', '__setattr__', '__sizeof__', '__str__', '__sub__', '__subclasshook__', '__xor__', 'add', 'clear', 'copy', 'difference', 'difference_update', 'discard', 'intersection', 'intersection_update', 'isdisjoint', 'issubset', 'issuperset', 'pop', 'remove', 'symmetric_difference', 'symmetric_difference_update', 'union', 'update']\n"
     ]
    }
   ],
   "source": [
    "print(dir(set))"
   ]
  },
  {
   "cell_type": "code",
   "execution_count": 193,
   "id": "e3cb7e77-883f-4652-b87e-05246efdecd4",
   "metadata": {},
   "outputs": [
    {
     "name": "stdout",
     "output_type": "stream",
     "text": [
      "['ALLOW_THREADS', 'BUFSIZE', 'CLIP', 'DataSource', 'ERR_CALL', 'ERR_DEFAULT', 'ERR_IGNORE', 'ERR_LOG', 'ERR_PRINT', 'ERR_RAISE', 'ERR_WARN', 'FLOATING_POINT_SUPPORT', 'FPE_DIVIDEBYZERO', 'FPE_INVALID', 'FPE_OVERFLOW', 'FPE_UNDERFLOW', 'False_', 'Inf', 'Infinity', 'MAXDIMS', 'MAY_SHARE_BOUNDS', 'MAY_SHARE_EXACT', 'NAN', 'NINF', 'NZERO', 'NaN', 'PINF', 'PZERO', 'RAISE', 'RankWarning', 'SHIFT_DIVIDEBYZERO', 'SHIFT_INVALID', 'SHIFT_OVERFLOW', 'SHIFT_UNDERFLOW', 'ScalarType', 'True_', 'UFUNC_BUFSIZE_DEFAULT', 'UFUNC_PYVALS_NAME', 'WRAP', '_CopyMode', '_NoValue', '_UFUNC_API', '__NUMPY_SETUP__', '__all__', '__builtins__', '__cached__', '__config__', '__deprecated_attrs__', '__dir__', '__doc__', '__expired_functions__', '__file__', '__former_attrs__', '__future_scalars__', '__getattr__', '__loader__', '__name__', '__package__', '__path__', '__spec__', '__version__', '_add_newdoc_ufunc', '_builtins', '_distributor_init', '_financial_names', '_get_promotion_state', '_globals', '_int_extended_msg', '_mat', '_no_nep50_warning', '_pyinstaller_hooks_dir', '_pytesttester', '_set_promotion_state', '_specific_msg', '_typing', '_using_numpy2_behavior', '_utils', 'abs', 'absolute', 'add', 'add_docstring', 'add_newdoc', 'add_newdoc_ufunc', 'all', 'allclose', 'alltrue', 'amax', 'amin', 'angle', 'any', 'append', 'apply_along_axis', 'apply_over_axes', 'arange', 'arccos', 'arccosh', 'arcsin', 'arcsinh', 'arctan', 'arctan2', 'arctanh', 'argmax', 'argmin', 'argpartition', 'argsort', 'argwhere', 'around', 'array', 'array2string', 'array_equal', 'array_equiv', 'array_repr', 'array_split', 'array_str', 'asanyarray', 'asarray', 'asarray_chkfinite', 'ascontiguousarray', 'asfarray', 'asfortranarray', 'asmatrix', 'atleast_1d', 'atleast_2d', 'atleast_3d', 'average', 'bartlett', 'base_repr', 'binary_repr', 'bincount', 'bitwise_and', 'bitwise_not', 'bitwise_or', 'bitwise_xor', 'blackman', 'block', 'bmat', 'bool_', 'broadcast', 'broadcast_arrays', 'broadcast_shapes', 'broadcast_to', 'busday_count', 'busday_offset', 'busdaycalendar', 'byte', 'byte_bounds', 'bytes_', 'c_', 'can_cast', 'cast', 'cbrt', 'cdouble', 'ceil', 'cfloat', 'char', 'character', 'chararray', 'choose', 'clip', 'clongdouble', 'clongfloat', 'column_stack', 'common_type', 'compare_chararrays', 'compat', 'complex128', 'complex64', 'complex_', 'complexfloating', 'compress', 'concatenate', 'conj', 'conjugate', 'convolve', 'copy', 'copysign', 'copyto', 'corrcoef', 'correlate', 'cos', 'cosh', 'count_nonzero', 'cov', 'cross', 'csingle', 'ctypeslib', 'cumprod', 'cumproduct', 'cumsum', 'datetime64', 'datetime_as_string', 'datetime_data', 'deg2rad', 'degrees', 'delete', 'deprecate', 'deprecate_with_doc', 'diag', 'diag_indices', 'diag_indices_from', 'diagflat', 'diagonal', 'diff', 'digitize', 'disp', 'divide', 'divmod', 'dot', 'double', 'dsplit', 'dstack', 'dtype', 'dtypes', 'e', 'ediff1d', 'einsum', 'einsum_path', 'emath', 'empty', 'empty_like', 'equal', 'errstate', 'euler_gamma', 'exceptions', 'exp', 'exp2', 'expand_dims', 'expm1', 'extract', 'eye', 'fabs', 'fastCopyAndTranspose', 'fft', 'fill_diagonal', 'find_common_type', 'finfo', 'fix', 'flatiter', 'flatnonzero', 'flexible', 'flip', 'fliplr', 'flipud', 'float16', 'float32', 'float64', 'float_', 'float_power', 'floating', 'floor', 'floor_divide', 'fmax', 'fmin', 'fmod', 'format_float_positional', 'format_float_scientific', 'format_parser', 'frexp', 'from_dlpack', 'frombuffer', 'fromfile', 'fromfunction', 'fromiter', 'frompyfunc', 'fromregex', 'fromstring', 'full', 'full_like', 'gcd', 'generic', 'genfromtxt', 'geomspace', 'get_array_wrap', 'get_include', 'get_printoptions', 'getbufsize', 'geterr', 'geterrcall', 'geterrobj', 'gradient', 'greater', 'greater_equal', 'half', 'hamming', 'hanning', 'heaviside', 'histogram', 'histogram2d', 'histogram_bin_edges', 'histogramdd', 'hsplit', 'hstack', 'hypot', 'i0', 'identity', 'iinfo', 'imag', 'in1d', 'index_exp', 'indices', 'inexact', 'inf', 'info', 'infty', 'inner', 'insert', 'int16', 'int32', 'int64', 'int8', 'int_', 'intc', 'integer', 'interp', 'intersect1d', 'intp', 'invert', 'is_busday', 'isclose', 'iscomplex', 'iscomplexobj', 'isfinite', 'isfortran', 'isin', 'isinf', 'isnan', 'isnat', 'isneginf', 'isposinf', 'isreal', 'isrealobj', 'isscalar', 'issctype', 'issubclass_', 'issubdtype', 'issubsctype', 'iterable', 'ix_', 'kaiser', 'kron', 'lcm', 'ldexp', 'left_shift', 'less', 'less_equal', 'lexsort', 'lib', 'linalg', 'linspace', 'little_endian', 'load', 'loadtxt', 'log', 'log10', 'log1p', 'log2', 'logaddexp', 'logaddexp2', 'logical_and', 'logical_not', 'logical_or', 'logical_xor', 'logspace', 'longcomplex', 'longdouble', 'longfloat', 'longlong', 'lookfor', 'ma', 'mask_indices', 'mat', 'matmul', 'matrix', 'max', 'maximum', 'maximum_sctype', 'may_share_memory', 'mean', 'median', 'memmap', 'meshgrid', 'mgrid', 'min', 'min_scalar_type', 'minimum', 'mintypecode', 'mod', 'modf', 'moveaxis', 'msort', 'multiply', 'nan', 'nan_to_num', 'nanargmax', 'nanargmin', 'nancumprod', 'nancumsum', 'nanmax', 'nanmean', 'nanmedian', 'nanmin', 'nanpercentile', 'nanprod', 'nanquantile', 'nanstd', 'nansum', 'nanvar', 'nbytes', 'ndarray', 'ndenumerate', 'ndim', 'ndindex', 'nditer', 'negative', 'nested_iters', 'newaxis', 'nextafter', 'nonzero', 'not_equal', 'numarray', 'number', 'obj2sctype', 'object_', 'ogrid', 'oldnumeric', 'ones', 'ones_like', 'outer', 'packbits', 'pad', 'partition', 'percentile', 'pi', 'piecewise', 'place', 'poly', 'poly1d', 'polyadd', 'polyder', 'polydiv', 'polyfit', 'polyint', 'polymul', 'polynomial', 'polysub', 'polyval', 'positive', 'power', 'printoptions', 'prod', 'product', 'promote_types', 'ptp', 'put', 'put_along_axis', 'putmask', 'quantile', 'r_', 'rad2deg', 'radians', 'random', 'ravel', 'ravel_multi_index', 'real', 'real_if_close', 'rec', 'recarray', 'recfromcsv', 'recfromtxt', 'reciprocal', 'record', 'remainder', 'repeat', 'require', 'reshape', 'resize', 'result_type', 'right_shift', 'rint', 'roll', 'rollaxis', 'roots', 'rot90', 'round', 'round_', 'row_stack', 's_', 'safe_eval', 'save', 'savetxt', 'savez', 'savez_compressed', 'sctype2char', 'sctypeDict', 'sctypes', 'searchsorted', 'select', 'set_numeric_ops', 'set_printoptions', 'set_string_function', 'setbufsize', 'setdiff1d', 'seterr', 'seterrcall', 'seterrobj', 'setxor1d', 'shape', 'shares_memory', 'short', 'show_config', 'show_runtime', 'sign', 'signbit', 'signedinteger', 'sin', 'sinc', 'single', 'singlecomplex', 'sinh', 'size', 'sometrue', 'sort', 'sort_complex', 'source', 'spacing', 'split', 'sqrt', 'square', 'squeeze', 'stack', 'std', 'str_', 'string_', 'subtract', 'sum', 'swapaxes', 'take', 'take_along_axis', 'tan', 'tanh', 'tensordot', 'test', 'testing', 'tile', 'timedelta64', 'trace', 'tracemalloc_domain', 'transpose', 'trapz', 'tri', 'tril', 'tril_indices', 'tril_indices_from', 'trim_zeros', 'triu', 'triu_indices', 'triu_indices_from', 'true_divide', 'trunc', 'typecodes', 'typename', 'ubyte', 'ufunc', 'uint', 'uint16', 'uint32', 'uint64', 'uint8', 'uintc', 'uintp', 'ulonglong', 'unicode_', 'union1d', 'unique', 'unpackbits', 'unravel_index', 'unsignedinteger', 'unwrap', 'ushort', 'vander', 'var', 'vdot', 'vectorize', 'version', 'void', 'vsplit', 'vstack', 'where', 'who', 'zeros', 'zeros_like']\n"
     ]
    }
   ],
   "source": [
    "print(dir(numpy))"
   ]
  },
  {
   "cell_type": "code",
   "execution_count": 196,
   "id": "df6d70fe-9000-4d3a-ab50-bcfa16614657",
   "metadata": {},
   "outputs": [],
   "source": [
    "import keyword"
   ]
  },
  {
   "cell_type": "code",
   "execution_count": 197,
   "id": "2a8795cc-f608-4f4b-919c-8af278d4b7e2",
   "metadata": {},
   "outputs": [
    {
     "name": "stdout",
     "output_type": "stream",
     "text": [
      "['False', 'None', 'True', 'and', 'as', 'assert', 'async', 'await', 'break', 'class', 'continue', 'def', 'del', 'elif', 'else', 'except', 'finally', 'for', 'from', 'global', 'if', 'import', 'in', 'is', 'lambda', 'nonlocal', 'not', 'or', 'pass', 'raise', 'return', 'try', 'while', 'with', 'yield']\n",
      "35\n"
     ]
    }
   ],
   "source": [
    "print(keyword.kwlist)\n",
    "print(len(keyword.kwlist))"
   ]
  },
  {
   "cell_type": "code",
   "execution_count": null,
   "id": "5fad43a8-a33b-4e7b-a792-eb03b2932678",
   "metadata": {},
   "outputs": [],
   "source": []
  }
 ],
 "metadata": {
  "kernelspec": {
   "display_name": "Python 3 (ipykernel)",
   "language": "python",
   "name": "python3"
  },
  "language_info": {
   "codemirror_mode": {
    "name": "ipython",
    "version": 3
   },
   "file_extension": ".py",
   "mimetype": "text/x-python",
   "name": "python",
   "nbconvert_exporter": "python",
   "pygments_lexer": "ipython3",
   "version": "3.12.7"
  }
 },
 "nbformat": 4,
 "nbformat_minor": 5
}
